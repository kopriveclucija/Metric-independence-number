{
 "cells": [
  {
   "cell_type": "code",
   "execution_count": 4,
   "metadata": {
    "collapsed": false
   },
   "outputs": [
    {
     "name": "stdout",
     "output_type": "stream",
     "text": [
      "Dolzina krajse poti je: 1 , dolzina daljse poti je 1 , mi= 1.0\n",
      "Dolzina krajse poti je: 1 , dolzina daljse poti je 2 , mi= 3.0\n",
      "Dolzina krajse poti je: 1 , dolzina daljse poti je 3 , mi= 4.0\n",
      "Dolzina krajse poti je: 1 , dolzina daljse poti je 4 , mi= 5.0\n",
      "Dolzina krajse poti je: 1 , dolzina daljse poti je 5 , mi= 6.0\n",
      "Dolzina krajse poti je: 1 , dolzina daljse poti je 6 , mi= 7.0\n",
      "Dolzina krajse poti je: 2 , dolzina daljse poti je 2 , mi= 6.0\n",
      "Dolzina krajse poti je: 2 , dolzina daljse poti je 3 , mi= 8.0\n",
      "Dolzina krajse poti je: 2 , dolzina daljse poti je 4 , mi= 10.0\n",
      "Dolzina krajse poti je: 2 , dolzina daljse poti je 5 , mi= 12.0\n",
      "Dolzina krajse poti je: 2 , dolzina daljse poti je 6 , mi= 14.0\n",
      "Dolzina krajse poti je: 3 , dolzina daljse poti je 3 , mi= 11.0\n",
      "Dolzina krajse poti je: 3 , dolzina daljse poti je 4 "
     ]
    },
    {
     "name": "stdout",
     "output_type": "stream",
     "text": [
      ", mi= 14.0\n",
      "Dolzina krajse poti je: 3 , dolzina daljse poti je 5 , mi= 17.0\n"
     ]
    },
    {
     "name": "stdout",
     "output_type": "stream",
     "text": [
      "Dolzina krajse poti je: 3 , dolzina daljse poti je 6 , mi= 20.0\n",
      "Dolzina krajse poti je: 4 , dolzina daljse poti je 4 , mi= 18.0\n"
     ]
    },
    {
     "name": "stdout",
     "output_type": "stream",
     "text": [
      "Dolzina krajse poti je: 4 , dolzina daljse poti je 5 , mi= 22.0\n"
     ]
    },
    {
     "name": "stdout",
     "output_type": "stream",
     "text": [
      "Dolzina krajse poti je: 4 , dolzina daljse poti je 6 , mi= 26.0\n"
     ]
    }
   ],
   "source": [
    "#zaradi lažjega nadaljevanja zamenjamo imena vozlisc\n",
    "def zamenjaj(graf):\n",
    "    Y=graf.vertices(sort=True)\n",
    "    j=0\n",
    "    for i in Y:\n",
    "        tocka=Y[j]\n",
    "        graf.relabel({tocka:j})\n",
    "        j=j+1\n",
    "    return(graf)\n",
    "\n",
    "#funkcija vrne mnozico vseh neurejenih parov razlicnih vozlisc grafa\n",
    "def mnozica_parov(graf):\n",
    "    X=graf.vertices(sort=True)\n",
    "    a=[]\n",
    "    for i in X:\n",
    "        for j in X:\n",
    "            if j>=i:\n",
    "                a.append((i,j))\n",
    "            else:\n",
    "                continue\n",
    "    return(a)\n",
    "\n",
    "#linearni program, kjer iscemo maksimum, y pa je spremenljivka\n",
    "def linearni_program(graf, mnozica_parov):\n",
    "    vozlisca=graf.vertices(sort=True)\n",
    "    matrika=[]\n",
    "    #matrika za a(p,v)\n",
    "    for v in vozlisca:\n",
    "        a={\"vozlisce\":v}\n",
    "        for par in mnozica_parov:\n",
    "            if graf.distance(par[0],v)==graf.distance(par[1],v):\n",
    "                a[par]=0\n",
    "            else:\n",
    "                a[par]=1\n",
    "        matrika.append(a)\n",
    "\n",
    "    p = MixedIntegerLinearProgram(maximization = True)\n",
    "    y = p.new_variable(binary = True)\n",
    "\n",
    "    #ta funkcija katere maksimum iscemo\n",
    "    p.set_objective( sum([y[p] for p in mnozica_parov]))\n",
    "    i=0\n",
    "    \n",
    "    #dodajamo pogoj za vsako vozlisce grafa posebaj\n",
    "    for v in graf.vertices():\n",
    "        vektor=matrika[i]\n",
    "        del vektor['vozlisce']\n",
    "        p.add_constraint(sum(vektor[p]*y[p] for p in mnozica_parov) <= 1)\n",
    "        i=i+1\n",
    "    vrednost=p.solve()\n",
    "    return(vrednost)\n",
    "\n",
    "#funkcija, ki vrne vrednosti mi skupaj z obliko grafa\n",
    "def zaporedje(osnovna,zgornja):\n",
    "    for i in range(osnovna,zgornja+1):\n",
    "        p1= graphs.PathGraph(osnovna)\n",
    "        p2= graphs.PathGraph(i)\n",
    "        p = p1.cartesian_product(p2)\n",
    "        p=zamenjaj(p)\n",
    "        mn=mnozica_parov(p)\n",
    "        s=linearni_program(p,mn)\n",
    "        print(\"Dolzina krajse poti je:\",osnovna,\", dolzina daljse poti je\",i, \", mi=\", s)\n",
    "\n",
    "\n",
    "#vrednosti\n",
    "a=zaporedje(1,6)\n",
    "b=zaporedje(2,6)\n",
    "c=zaporedje(3,6)\n",
    "d=zaporedje(4,6)\n",
    "#e=zaporedje(5,6)\n",
    "#f=zaporedje(6,6)\n",
    "#potrbuje nekoliko dlje casa\n",
    "#g=zaporedje(7,7)\n",
    "#h=zaporedje(8,8)"
   ]
  }
 ],
 "metadata": {
  "kernelspec": {
   "argv": [
    "sage-10.2",
    "--python",
    "-m",
    "sage.repl.ipython_kernel",
    "--matplotlib=inline",
    "-f",
    "{connection_file}"
   ],
   "display_name": "SageMath 10.2",
   "env": {
   },
   "language": "sagemath",
   "metadata": {
    "cocalc": {
     "description": "Open-source mathematical software system",
     "priority": 2,
     "url": "https://www.sagemath.org/"
    }
   },
   "name": "sage-10.2",
   "resource_dir": "/ext/jupyter/kernels/sage-10.2"
  },
  "language_info": {
   "codemirror_mode": {
    "name": "ipython",
    "version": 3
   },
   "file_extension": ".py",
   "mimetype": "text/x-python",
   "name": "python",
   "nbconvert_exporter": "python",
   "pygments_lexer": "ipython3",
   "version": "3.11.1"
  }
 },
 "nbformat": 4,
 "nbformat_minor": 4
}
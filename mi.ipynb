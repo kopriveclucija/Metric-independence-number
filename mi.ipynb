{
 "cells": [
  {
   "cell_type": "code",
   "execution_count": 0,
   "metadata": {
    "collapsed": false
   },
   "outputs": [
   ],
   "source": [
    "#tukaj je g nek nakljucen graf\n",
    "P = graphs.CubeGraph(3)\n",
    "P.show()\n",
    "\n",
    "def mnozica_parov(graf):\n",
    "    X=graf.vertices(sort=True)\n",
    "    a=[]\n",
    "    for i in X:\n",
    "        for j in X:\n",
    "            if j>i:\n",
    "                a.append((i,j))\n",
    "            else:\n",
    "                continue\n",
    "    return(a)\n",
    "\n",
    "#naj bi bil linearni program, kjer iscemo maksimum, y pa je spremenljivka\n",
    "def linearni_program(graf, mnozica_parov):\n",
    "    vozlisca=graf.vertices(sort=True)\n",
    "    matrika=[]\n",
    "    #matrika za a(p,v)\n",
    "    for v in vozlisca:\n",
    "        a={\"vozlisce\":v}\n",
    "        for par in mnozica_parov:\n",
    "            if graf.distance(par[0],v)==graf.distance(par[1],v):\n",
    "                a[par]=0\n",
    "            else:\n",
    "                a[par]=1\n",
    "        matrika.append(a)\n",
    "\n",
    "    p = MixedIntegerLinearProgram(maximization = True)\n",
    "    y = p.new_variable(binary = True)\n",
    "    \n",
    "\n",
    "    #ta funkcija katere maksimum iscemo\n",
    "    p.set_objective( sum([y[p] for p in mnozica_parov]))\n",
    "    i=0\n",
    "    \n",
    "    #dodajamo pogo za vsako vozlisce grafa posebaj\n",
    "    for v in graf.vertices():\n",
    "        vektor=matrika[i]\n",
    "        del vektor['vozlisce']\n",
    "        p.add_constraint(sum(vektor[p]*y[p] for p in mnozica_parov) <= 1)\n",
    "        i=i+1\n",
    "    vrednost=p.solve()\n",
    "    return(vrednost)\n",
    "\n",
    "mnozica_parov=mnozica_parov(P)\n",
    "m=linearni_program(P,mnozica_parov)\n",
    "print(m)\n"
   ]
  },
  {
   "cell_type": "code",
   "execution_count": 0,
   "metadata": {
    "collapsed": false
   },
   "outputs": [
   ],
   "source": [
   ]
  }
 ],
 "metadata": {
  "kernelspec": {
   "argv": [
    "sage-10.1",
    "--python",
    "-m",
    "sage.repl.ipython_kernel",
    "--matplotlib=inline",
    "-f",
    "{connection_file}"
   ],
   "display_name": "SageMath 10.1",
   "env": {
   },
   "language": "sagemath",
   "metadata": {
    "cocalc": {
     "description": "Open-source mathematical software system",
     "priority": 10,
     "url": "https://www.sagemath.org/"
    }
   },
   "name": "sage-10.1",
   "resource_dir": "/ext/jupyter/kernels/sage-10.1"
  }
 },
 "nbformat": 4,
 "nbformat_minor": 4
}
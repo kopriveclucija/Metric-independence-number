{
 "cells": [
  {
   "cell_type": "code",
   "execution_count": 2,
   "metadata": {
    "collapsed": false
   },
   "outputs": [
    {
     "name": "stdout",
     "output_type": "stream",
     "text": [
      "3\n"
     ]
    }
   ],
   "source": [
    "#g je nek graf, bolj za preizkusanje algoritma kot ne, ce se spreminja, bi naj bili drugacni rezultati\n",
    "g = graphs.DiamondGraph()\n",
    "n= g.order()\n",
    "vozlisca=g.vertices(sort=True)\n",
    "X=Set(g.vertices(sort=True))\n",
    "\n",
    "#pari razlicnih vozlisc\n",
    "Vp=list(X.subsets(2))\n",
    "\n",
    "#mnozica vozlisc ki razresi par \n",
    "def mnozica_raz_voz(v):\n",
    "    a=v\n",
    "    b=[]\n",
    "    for j in vozlisca:\n",
    "        if g.distance(a[0],j)!=g.distance(a[1],j):\n",
    "            b.append(j)\n",
    "        else:\n",
    "            b=b\n",
    "    return(b)   \n",
    "\n",
    "#vse podmnozice vozlisc\n",
    "podmnozice_vozlisc=list(X.subsets())\n",
    "\n",
    "\n",
    "#kdaj mnozica razresi par \n",
    "#vrne katera vozlisca so skupna dani mnozici in mnozici, ki razresi par\n",
    "#torej se vrne prazen seznam, ta mnozica ne razresi par\n",
    "def mnozica_razresi_par(par, mnozica):\n",
    "    lst3 = [value for value in par if value in mnozica]\n",
    "    return(lst3)\n",
    "\n",
    "\n",
    "#preveranje ali drzi za mnozico\n",
    "def mnozice_za_dim(g):\n",
    "    vozlisca=g.vertices(sort=True)\n",
    "    X=Set(g.vertices(sort=True))\n",
    "    Vp=list(X.subsets(2))\n",
    "    podmnozice_vozlisc=list(X.subsets())\n",
    "    razresujoce_mnozice=[]\n",
    "    for podmnozica in podmnozice_vozlisc:\n",
    "        #za vsak par vozlisc\n",
    "        ali_razresi=[]\n",
    "        i=0\n",
    "        #za vsako par vozlisc preveri če ima z mnozico ki razresi par kaksno skupno vozlisce\n",
    "        #ce ima da 1 sicer 0\n",
    "        #ce je 1 toliko kot je vezlisc potem je ok, in je mnozica razresujoca sicer ne\n",
    "        for par in Vp:\n",
    "            if len(mnozica_razresi_par(par, podmnozica))>0:\n",
    "                ali_razresi.append(1)\n",
    "                i=i+1            \n",
    "            else:\n",
    "                ali_razresi.append(0)\n",
    "                i=i+1\n",
    "        if sum(ali_razresi)==len(Vp):\n",
    "            razresujoce_mnozice.append(podmnozica)\n",
    "    #vrne vse razesujoce mnozice\n",
    "    return(razresujoce_mnozice)\n",
    "\n",
    "#mnozice ki so razresujoce\n",
    "S=mnozice_za_dim(g)\n",
    "\n",
    "#vrne velikost najmanjse razresujoce mnozice\n",
    "def dimenzija(seznam):\n",
    "    c=[]\n",
    "    for i in seznam:\n",
    "        c.append(len(i))\n",
    "    return(min(c))   \n",
    "     \n",
    "print(dimenzija(S))\n",
    "        \n"
   ]
  }
 ],
 "metadata": {
  "kernelspec": {
   "argv": [
    "sage-10.2",
    "--python",
    "-m",
    "sage.repl.ipython_kernel",
    "--matplotlib=inline",
    "-f",
    "{connection_file}"
   ],
   "display_name": "SageMath 10.2",
   "env": {
   },
   "language": "sagemath",
   "metadata": {
    "cocalc": {
     "description": "Open-source mathematical software system",
     "priority": 2,
     "url": "https://www.sagemath.org/"
    }
   },
   "name": "sage-10.2",
   "resource_dir": "/ext/jupyter/kernels/sage-10.2"
  },
  "language_info": {
   "codemirror_mode": {
    "name": "ipython",
    "version": 2
   },
   "file_extension": ".py",
   "mimetype": "text/x-python",
   "name": "python",
   "nbconvert_exporter": "python",
   "pygments_lexer": "ipython2",
   "version": "2.7.12+"
  }
 },
 "nbformat": 4,
 "nbformat_minor": 4
}